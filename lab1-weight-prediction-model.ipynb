{
 "cells": [
  {
   "metadata": {},
   "cell_type": "code",
   "source": [
    "import math\n",
    "import pandas as pd\n",
    "from sklearn import linear_model\n",
    "from sklearn.metrics import mean_absolute_error\n",
    "import matplotlib.pyplot as plt\n",
    "from scipy.stats import pearsonr"
   ],
   "id": "5dbab1858faf6182",
   "outputs": [],
   "execution_count": null
  },
  {
   "metadata": {},
   "cell_type": "code",
   "source": [
    "# 0. Cargar los datos de estatura y peso\n",
    "url = 'http://wiki.stat.ucla.edu/socr/index.php/SOCR_Data_Dinov_020108_HeightsWeights'\n",
    "\n",
    "height_weight_df = pd.read_html(url)[1][['Height(Inches)','Weight(Pounds)']]"
   ],
   "id": "d9a83f1ab1a45fd2",
   "outputs": [],
   "execution_count": null
  },
  {
   "metadata": {},
   "cell_type": "code",
   "source": [
    "# 1. Count records in the dataframe\n",
    "# 2. Crear una regresion lineal con estatura como variable explicatoria y peso como variable explicada\n",
    "# 3. Hallar el intercepto\n",
    "# 4. Hacer la grafica\n",
    "# 5. Hallar correlacion y valor p\n",
    "# 6. Interpretar el valor p"
   ],
   "id": "dc4ed125ad17f865",
   "outputs": [],
   "execution_count": null
  }
 ],
 "metadata": {
  "kernelspec": {
   "display_name": "Python 3",
   "language": "python",
   "name": "python3"
  },
  "language_info": {
   "codemirror_mode": {
    "name": "ipython",
    "version": 2
   },
   "file_extension": ".py",
   "mimetype": "text/x-python",
   "name": "python",
   "nbconvert_exporter": "python",
   "pygments_lexer": "ipython2",
   "version": "2.7.6"
  }
 },
 "nbformat": 4,
 "nbformat_minor": 5
}
